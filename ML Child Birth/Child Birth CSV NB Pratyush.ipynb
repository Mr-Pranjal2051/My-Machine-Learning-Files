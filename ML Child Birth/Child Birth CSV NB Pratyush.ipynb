{
 "cells": [
  {
   "cell_type": "markdown",
   "metadata": {},
   "source": [
    "## Importing Libraries:"
   ]
  },
  {
   "cell_type": "code",
   "execution_count": 1,
   "metadata": {},
   "outputs": [],
   "source": [
    "import pandas as pd\n",
    "import numpy as np\n",
    "import seaborn as sns\n",
    "import matplotlib.pyplot as plt\n",
    "%matplotlib inline\n",
    "import math"
   ]
  },
  {
   "cell_type": "code",
   "execution_count": 2,
   "metadata": {},
   "outputs": [],
   "source": [
    "dataset=pd.read_csv('childbirth.csv')"
   ]
  },
  {
   "cell_type": "code",
   "execution_count": 3,
   "metadata": {},
   "outputs": [
    {
     "name": "stdout",
     "output_type": "stream",
     "text": [
      "<class 'pandas.core.frame.DataFrame'>\n",
      "RangeIndex: 1773 entries, 0 to 1772\n",
      "Data columns (total 15 columns):\n",
      " #   Column                              Non-Null Count  Dtype  \n",
      "---  ------                              --------------  -----  \n",
      " 0   BabyId                              1773 non-null   object \n",
      " 1   FirsttimeParent                     1773 non-null   int64  \n",
      " 2   Crying date                         1773 non-null   object \n",
      " 3   Crying time                         1773 non-null   object \n",
      " 4   Crying seconds                      73 non-null     float64\n",
      " 5   Feeding date                        1773 non-null   object \n",
      " 6   Feeding time                        1773 non-null   object \n",
      " 7   Bottle amount                       1044 non-null   float64\n",
      " 8   PumpingDate                         1773 non-null   object \n",
      " 9   PumpingTimePumpingLeftPumpingRight  1773 non-null   object \n",
      " 10  Pumping Left                        61 non-null     float64\n",
      " 11  PumpingRight                        68 non-null     float64\n",
      " 12  SleepingDate                        1773 non-null   object \n",
      " 13  SleepingTime                        1773 non-null   object \n",
      " 14  SleepingSecond                      996 non-null    float64\n",
      "dtypes: float64(5), int64(1), object(9)\n",
      "memory usage: 207.9+ KB\n"
     ]
    }
   ],
   "source": [
    "dataset.info()"
   ]
  },
  {
   "cell_type": "code",
   "execution_count": 4,
   "metadata": {},
   "outputs": [
    {
     "data": {
      "text/html": [
       "<div>\n",
       "<style scoped>\n",
       "    .dataframe tbody tr th:only-of-type {\n",
       "        vertical-align: middle;\n",
       "    }\n",
       "\n",
       "    .dataframe tbody tr th {\n",
       "        vertical-align: top;\n",
       "    }\n",
       "\n",
       "    .dataframe thead th {\n",
       "        text-align: right;\n",
       "    }\n",
       "</style>\n",
       "<table border=\"1\" class=\"dataframe\">\n",
       "  <thead>\n",
       "    <tr style=\"text-align: right;\">\n",
       "      <th></th>\n",
       "      <th>BabyId</th>\n",
       "      <th>FirsttimeParent</th>\n",
       "      <th>Crying date</th>\n",
       "      <th>Crying time</th>\n",
       "      <th>Crying seconds</th>\n",
       "      <th>Feeding date</th>\n",
       "      <th>Feeding time</th>\n",
       "      <th>Bottle amount</th>\n",
       "      <th>PumpingDate</th>\n",
       "      <th>PumpingTimePumpingLeftPumpingRight</th>\n",
       "      <th>Pumping Left</th>\n",
       "      <th>PumpingRight</th>\n",
       "      <th>SleepingDate</th>\n",
       "      <th>SleepingTime</th>\n",
       "      <th>SleepingSecond</th>\n",
       "    </tr>\n",
       "  </thead>\n",
       "  <tbody>\n",
       "    <tr>\n",
       "      <th>0</th>\n",
       "      <td>HPT2_NR_16</td>\n",
       "      <td>1</td>\n",
       "      <td>05-08-2015</td>\n",
       "      <td>20:31:47</td>\n",
       "      <td>900.0</td>\n",
       "      <td>05-08-2015</td>\n",
       "      <td>20:31:47</td>\n",
       "      <td>180.0</td>\n",
       "      <td>05-08-2015</td>\n",
       "      <td>20:31:47</td>\n",
       "      <td>40.0</td>\n",
       "      <td>30.0</td>\n",
       "      <td>05-08-2015</td>\n",
       "      <td>20:31:47</td>\n",
       "      <td>5153.979043</td>\n",
       "    </tr>\n",
       "    <tr>\n",
       "      <th>1</th>\n",
       "      <td>HPT2_NR_16</td>\n",
       "      <td>1</td>\n",
       "      <td>05-08-2015</td>\n",
       "      <td>23:33:46</td>\n",
       "      <td>600.0</td>\n",
       "      <td>05-08-2015</td>\n",
       "      <td>23:33:46</td>\n",
       "      <td>180.0</td>\n",
       "      <td>05-08-2015</td>\n",
       "      <td>23:33:46</td>\n",
       "      <td>50.0</td>\n",
       "      <td>35.0</td>\n",
       "      <td>05-08-2015</td>\n",
       "      <td>23:33:46</td>\n",
       "      <td>33365.111960</td>\n",
       "    </tr>\n",
       "    <tr>\n",
       "      <th>2</th>\n",
       "      <td>HPT2_NR_16</td>\n",
       "      <td>1</td>\n",
       "      <td>06-08-2015</td>\n",
       "      <td>10:20:00</td>\n",
       "      <td>916.0</td>\n",
       "      <td>06-08-2015</td>\n",
       "      <td>10:20:00</td>\n",
       "      <td>180.0</td>\n",
       "      <td>06-08-2015</td>\n",
       "      <td>10:20:00</td>\n",
       "      <td>NaN</td>\n",
       "      <td>NaN</td>\n",
       "      <td>06-08-2015</td>\n",
       "      <td>10:20:00</td>\n",
       "      <td>2100.000000</td>\n",
       "    </tr>\n",
       "    <tr>\n",
       "      <th>3</th>\n",
       "      <td>HPT2_NR_16</td>\n",
       "      <td>1</td>\n",
       "      <td>06-08-2015</td>\n",
       "      <td>11:30:00</td>\n",
       "      <td>300.0</td>\n",
       "      <td>06-08-2015</td>\n",
       "      <td>11:30:00</td>\n",
       "      <td>35.0</td>\n",
       "      <td>06-08-2015</td>\n",
       "      <td>11:30:00</td>\n",
       "      <td>NaN</td>\n",
       "      <td>NaN</td>\n",
       "      <td>06-08-2015</td>\n",
       "      <td>11:30:00</td>\n",
       "      <td>1200.000000</td>\n",
       "    </tr>\n",
       "    <tr>\n",
       "      <th>4</th>\n",
       "      <td>HPT2_NR_16</td>\n",
       "      <td>1</td>\n",
       "      <td>06-08-2015</td>\n",
       "      <td>12:15:00</td>\n",
       "      <td>600.0</td>\n",
       "      <td>06-08-2015</td>\n",
       "      <td>12:15:00</td>\n",
       "      <td>180.0</td>\n",
       "      <td>06-08-2015</td>\n",
       "      <td>12:15:00</td>\n",
       "      <td>NaN</td>\n",
       "      <td>NaN</td>\n",
       "      <td>06-08-2015</td>\n",
       "      <td>12:15:00</td>\n",
       "      <td>4800.000000</td>\n",
       "    </tr>\n",
       "  </tbody>\n",
       "</table>\n",
       "</div>"
      ],
      "text/plain": [
       "       BabyId  FirsttimeParent Crying date Crying time  Crying seconds  \\\n",
       "0  HPT2_NR_16                1  05-08-2015    20:31:47           900.0   \n",
       "1  HPT2_NR_16                1  05-08-2015    23:33:46           600.0   \n",
       "2  HPT2_NR_16                1  06-08-2015    10:20:00           916.0   \n",
       "3  HPT2_NR_16                1  06-08-2015    11:30:00           300.0   \n",
       "4  HPT2_NR_16                1  06-08-2015    12:15:00           600.0   \n",
       "\n",
       "  Feeding date Feeding time  Bottle amount PumpingDate  \\\n",
       "0   05-08-2015     20:31:47          180.0  05-08-2015   \n",
       "1   05-08-2015     23:33:46          180.0  05-08-2015   \n",
       "2   06-08-2015     10:20:00          180.0  06-08-2015   \n",
       "3   06-08-2015     11:30:00           35.0  06-08-2015   \n",
       "4   06-08-2015     12:15:00          180.0  06-08-2015   \n",
       "\n",
       "  PumpingTimePumpingLeftPumpingRight  Pumping Left  PumpingRight SleepingDate  \\\n",
       "0                           20:31:47          40.0          30.0   05-08-2015   \n",
       "1                           23:33:46          50.0          35.0   05-08-2015   \n",
       "2                           10:20:00           NaN           NaN   06-08-2015   \n",
       "3                           11:30:00           NaN           NaN   06-08-2015   \n",
       "4                           12:15:00           NaN           NaN   06-08-2015   \n",
       "\n",
       "  SleepingTime  SleepingSecond  \n",
       "0     20:31:47     5153.979043  \n",
       "1     23:33:46    33365.111960  \n",
       "2     10:20:00     2100.000000  \n",
       "3     11:30:00     1200.000000  \n",
       "4     12:15:00     4800.000000  "
      ]
     },
     "execution_count": 4,
     "metadata": {},
     "output_type": "execute_result"
    }
   ],
   "source": [
    "dataset.head()"
   ]
  },
  {
   "cell_type": "code",
   "execution_count": 5,
   "metadata": {},
   "outputs": [
    {
     "data": {
      "text/plain": [
       "(1773, 15)"
      ]
     },
     "execution_count": 5,
     "metadata": {},
     "output_type": "execute_result"
    }
   ],
   "source": [
    "dataset.shape"
   ]
  },
  {
   "cell_type": "code",
   "execution_count": 6,
   "metadata": {},
   "outputs": [
    {
     "data": {
      "text/html": [
       "<div>\n",
       "<style scoped>\n",
       "    .dataframe tbody tr th:only-of-type {\n",
       "        vertical-align: middle;\n",
       "    }\n",
       "\n",
       "    .dataframe tbody tr th {\n",
       "        vertical-align: top;\n",
       "    }\n",
       "\n",
       "    .dataframe thead th {\n",
       "        text-align: right;\n",
       "    }\n",
       "</style>\n",
       "<table border=\"1\" class=\"dataframe\">\n",
       "  <thead>\n",
       "    <tr style=\"text-align: right;\">\n",
       "      <th></th>\n",
       "      <th>FirsttimeParent</th>\n",
       "      <th>Crying seconds</th>\n",
       "      <th>Bottle amount</th>\n",
       "      <th>Pumping Left</th>\n",
       "      <th>PumpingRight</th>\n",
       "      <th>SleepingSecond</th>\n",
       "    </tr>\n",
       "  </thead>\n",
       "  <tbody>\n",
       "    <tr>\n",
       "      <th>count</th>\n",
       "      <td>1773.000000</td>\n",
       "      <td>73.000000</td>\n",
       "      <td>1044.000000</td>\n",
       "      <td>61.000000</td>\n",
       "      <td>68.000000</td>\n",
       "      <td>996.000000</td>\n",
       "    </tr>\n",
       "    <tr>\n",
       "      <th>mean</th>\n",
       "      <td>0.840948</td>\n",
       "      <td>1457.206746</td>\n",
       "      <td>127.203065</td>\n",
       "      <td>48.360656</td>\n",
       "      <td>38.014706</td>\n",
       "      <td>9896.331302</td>\n",
       "    </tr>\n",
       "    <tr>\n",
       "      <th>std</th>\n",
       "      <td>0.365828</td>\n",
       "      <td>2059.022294</td>\n",
       "      <td>36.557694</td>\n",
       "      <td>42.600091</td>\n",
       "      <td>25.394495</td>\n",
       "      <td>8834.708534</td>\n",
       "    </tr>\n",
       "    <tr>\n",
       "      <th>min</th>\n",
       "      <td>0.000000</td>\n",
       "      <td>25.000000</td>\n",
       "      <td>20.000000</td>\n",
       "      <td>0.000000</td>\n",
       "      <td>0.000000</td>\n",
       "      <td>114.492544</td>\n",
       "    </tr>\n",
       "    <tr>\n",
       "      <th>25%</th>\n",
       "      <td>1.000000</td>\n",
       "      <td>300.000000</td>\n",
       "      <td>100.000000</td>\n",
       "      <td>25.000000</td>\n",
       "      <td>20.000000</td>\n",
       "      <td>3599.739393</td>\n",
       "    </tr>\n",
       "    <tr>\n",
       "      <th>50%</th>\n",
       "      <td>1.000000</td>\n",
       "      <td>900.000000</td>\n",
       "      <td>120.000000</td>\n",
       "      <td>40.000000</td>\n",
       "      <td>32.500000</td>\n",
       "      <td>7701.496467</td>\n",
       "    </tr>\n",
       "    <tr>\n",
       "      <th>75%</th>\n",
       "      <td>1.000000</td>\n",
       "      <td>1800.000000</td>\n",
       "      <td>150.000000</td>\n",
       "      <td>55.000000</td>\n",
       "      <td>55.000000</td>\n",
       "      <td>12600.000000</td>\n",
       "    </tr>\n",
       "    <tr>\n",
       "      <th>max</th>\n",
       "      <td>1.000000</td>\n",
       "      <td>12600.000000</td>\n",
       "      <td>210.000000</td>\n",
       "      <td>190.000000</td>\n",
       "      <td>155.000000</td>\n",
       "      <td>45000.000000</td>\n",
       "    </tr>\n",
       "  </tbody>\n",
       "</table>\n",
       "</div>"
      ],
      "text/plain": [
       "       FirsttimeParent  Crying seconds  Bottle amount  Pumping Left  \\\n",
       "count      1773.000000       73.000000    1044.000000     61.000000   \n",
       "mean          0.840948     1457.206746     127.203065     48.360656   \n",
       "std           0.365828     2059.022294      36.557694     42.600091   \n",
       "min           0.000000       25.000000      20.000000      0.000000   \n",
       "25%           1.000000      300.000000     100.000000     25.000000   \n",
       "50%           1.000000      900.000000     120.000000     40.000000   \n",
       "75%           1.000000     1800.000000     150.000000     55.000000   \n",
       "max           1.000000    12600.000000     210.000000    190.000000   \n",
       "\n",
       "       PumpingRight  SleepingSecond  \n",
       "count     68.000000      996.000000  \n",
       "mean      38.014706     9896.331302  \n",
       "std       25.394495     8834.708534  \n",
       "min        0.000000      114.492544  \n",
       "25%       20.000000     3599.739393  \n",
       "50%       32.500000     7701.496467  \n",
       "75%       55.000000    12600.000000  \n",
       "max      155.000000    45000.000000  "
      ]
     },
     "execution_count": 6,
     "metadata": {},
     "output_type": "execute_result"
    }
   ],
   "source": [
    "dataset.describe()"
   ]
  },
  {
   "cell_type": "code",
   "execution_count": 7,
   "metadata": {},
   "outputs": [
    {
     "data": {
      "text/plain": [
       "Index(['BabyId', 'FirsttimeParent', 'Crying date', 'Crying time',\n",
       "       'Crying seconds', 'Feeding date', 'Feeding time', 'Bottle amount',\n",
       "       'PumpingDate', 'PumpingTimePumpingLeftPumpingRight', 'Pumping Left',\n",
       "       'PumpingRight', 'SleepingDate', 'SleepingTime', 'SleepingSecond'],\n",
       "      dtype='object')"
      ]
     },
     "execution_count": 7,
     "metadata": {},
     "output_type": "execute_result"
    }
   ],
   "source": [
    "dataset.columns"
   ]
  },
  {
   "cell_type": "markdown",
   "metadata": {},
   "source": [
    "## Handling Null Values:"
   ]
  },
  {
   "cell_type": "code",
   "execution_count": 8,
   "metadata": {},
   "outputs": [
    {
     "data": {
      "text/plain": [
       "BabyId                                   0\n",
       "FirsttimeParent                          0\n",
       "Crying date                              0\n",
       "Crying time                              0\n",
       "Crying seconds                        1700\n",
       "Feeding date                             0\n",
       "Feeding time                             0\n",
       "Bottle amount                          729\n",
       "PumpingDate                              0\n",
       "PumpingTimePumpingLeftPumpingRight       0\n",
       "Pumping Left                          1712\n",
       "PumpingRight                          1705\n",
       "SleepingDate                             0\n",
       "SleepingTime                             0\n",
       "SleepingSecond                         777\n",
       "dtype: int64"
      ]
     },
     "execution_count": 8,
     "metadata": {},
     "output_type": "execute_result"
    }
   ],
   "source": [
    "dataset.isnull().sum()"
   ]
  },
  {
   "cell_type": "code",
   "execution_count": 9,
   "metadata": {},
   "outputs": [
    {
     "data": {
      "text/plain": [
       "<matplotlib.axes._subplots.AxesSubplot at 0x1ac2ca48220>"
      ]
     },
     "execution_count": 9,
     "metadata": {},
     "output_type": "execute_result"
    },
    {
     "data": {
      "image/png": "[encoded data removed]",
      "text/plain": [
       "<Figure size 432x288 with 2 Axes>"
      ]
     },
     "metadata": {
      "needs_background": "light"
     },
     "output_type": "display_data"
    }
   ],
   "source": [
    "sns.heatmap(dataset.isnull(), yticklabels=False, cmap='viridis')"
   ]
  },
  {
   "cell_type": "code",
   "execution_count": 10,
   "metadata": {},
   "outputs": [
    {
     "data": {
      "text/plain": [
       "<matplotlib.axes._subplots.AxesSubplot at 0x1ac2cafff70>"
      ]
     },
     "execution_count": 10,
     "metadata": {},
     "output_type": "execute_result"
    },
    {
     "data": {
      "image/png": "[encoded data removed]",
      "text/plain": [
       "<Figure size 432x288 with 1 Axes>"
      ]
     },
     "metadata": {
      "needs_background": "light"
     },
     "output_type": "display_data"
    }
   ],
   "source": [
    "sns.countplot(x='FirsttimeParent',data=dataset)"
   ]
  },
  {
   "cell_type": "code",
   "execution_count": 11,
   "metadata": {},
   "outputs": [
    {
     "data": {
      "text/plain": [
       "<matplotlib.axes._subplots.AxesSubplot at 0x1ac2cc18670>"
      ]
     },
     "execution_count": 11,
     "metadata": {},
     "output_type": "execute_result"
    },
    {
     "data": {
      "image/png": "[encoded data removed]",
      "text/plain": [
       "<Figure size 432x288 with 1 Axes>"
      ]
     },
     "metadata": {
      "needs_background": "light"
     },
     "output_type": "display_data"
    }
   ],
   "source": [
    "dataset['SleepingSecond'].plot.hist()"
   ]
  },
  {
   "cell_type": "code",
   "execution_count": 12,
   "metadata": {},
   "outputs": [
    {
     "data": {
      "text/plain": [
       "<matplotlib.axes._subplots.AxesSubplot at 0x1ac2cc907c0>"
      ]
     },
     "execution_count": 12,
     "metadata": {},
     "output_type": "execute_result"
    },
    {
     "data": {
      "image/png": "[encoded data removed]",
      "text/plain": [
       "<Figure size 432x288 with 1 Axes>"
      ]
     },
     "metadata": {
      "needs_background": "light"
     },
     "output_type": "display_data"
    }
   ],
   "source": [
    "dataset['Crying seconds'].plot.hist()"
   ]
  },
  {
   "cell_type": "code",
   "execution_count": 13,
   "metadata": {},
   "outputs": [
    {
     "data": {
      "text/plain": [
       "<matplotlib.axes._subplots.AxesSubplot at 0x1ac2ccfa7f0>"
      ]
     },
     "execution_count": 13,
     "metadata": {},
     "output_type": "execute_result"
    },
    {
     "data": {
      "image/png": "[encoded data removed]",
      "text/plain": [
       "<Figure size 432x288 with 1 Axes>"
      ]
     },
     "metadata": {
      "needs_background": "light"
     },
     "output_type": "display_data"
    }
   ],
   "source": [
    "dataset['Bottle amount'].plot.hist()"
   ]
  },
  {
   "cell_type": "code",
   "execution_count": 14,
   "metadata": {},
   "outputs": [
    {
     "data": {
      "text/plain": [
       "<matplotlib.collections.PathCollection at 0x1ac2cd981f0>"
      ]
     },
     "execution_count": 14,
     "metadata": {},
     "output_type": "execute_result"
    },
    {
     "data": {
      "image/png": "[encoded data removed]",
      "text/plain": [
       "<Figure size 432x288 with 1 Axes>"
      ]
     },
     "metadata": {
      "needs_background": "light"
     },
     "output_type": "display_data"
    }
   ],
   "source": [
    "plt.xlabel('Bottle amount')\n",
    "plt.ylabel('SleepingSecond')\n",
    "plt.scatter(dataset['Bottle amount'],dataset['SleepingSecond'])"
   ]
  },
  {
   "cell_type": "code",
   "execution_count": 15,
   "metadata": {},
   "outputs": [
    {
     "data": {
      "text/html": [
       "<div>\n",
       "<style scoped>\n",
       "    .dataframe tbody tr th:only-of-type {\n",
       "        vertical-align: middle;\n",
       "    }\n",
       "\n",
       "    .dataframe tbody tr th {\n",
       "        vertical-align: top;\n",
       "    }\n",
       "\n",
       "    .dataframe thead th {\n",
       "        text-align: right;\n",
       "    }\n",
       "</style>\n",
       "<table border=\"1\" class=\"dataframe\">\n",
       "  <thead>\n",
       "    <tr style=\"text-align: right;\">\n",
       "      <th></th>\n",
       "      <th>FirsttimeParent</th>\n",
       "      <th>Crying seconds</th>\n",
       "      <th>Bottle amount</th>\n",
       "      <th>Pumping Left</th>\n",
       "      <th>PumpingRight</th>\n",
       "      <th>SleepingSecond</th>\n",
       "    </tr>\n",
       "  </thead>\n",
       "  <tbody>\n",
       "    <tr>\n",
       "      <th>FirsttimeParent</th>\n",
       "      <td>1.000000</td>\n",
       "      <td>NaN</td>\n",
       "      <td>-0.036233</td>\n",
       "      <td>NaN</td>\n",
       "      <td>NaN</td>\n",
       "      <td>-0.050108</td>\n",
       "    </tr>\n",
       "    <tr>\n",
       "      <th>Crying seconds</th>\n",
       "      <td>NaN</td>\n",
       "      <td>1.000000</td>\n",
       "      <td>-0.176711</td>\n",
       "      <td>0.052093</td>\n",
       "      <td>0.000000</td>\n",
       "      <td>0.003579</td>\n",
       "    </tr>\n",
       "    <tr>\n",
       "      <th>Bottle amount</th>\n",
       "      <td>-0.036233</td>\n",
       "      <td>-0.176711</td>\n",
       "      <td>1.000000</td>\n",
       "      <td>0.121739</td>\n",
       "      <td>-0.028806</td>\n",
       "      <td>0.025459</td>\n",
       "    </tr>\n",
       "    <tr>\n",
       "      <th>Pumping Left</th>\n",
       "      <td>NaN</td>\n",
       "      <td>0.052093</td>\n",
       "      <td>0.121739</td>\n",
       "      <td>1.000000</td>\n",
       "      <td>0.165229</td>\n",
       "      <td>-0.089921</td>\n",
       "    </tr>\n",
       "    <tr>\n",
       "      <th>PumpingRight</th>\n",
       "      <td>NaN</td>\n",
       "      <td>0.000000</td>\n",
       "      <td>-0.028806</td>\n",
       "      <td>0.165229</td>\n",
       "      <td>1.000000</td>\n",
       "      <td>-0.095137</td>\n",
       "    </tr>\n",
       "    <tr>\n",
       "      <th>SleepingSecond</th>\n",
       "      <td>-0.050108</td>\n",
       "      <td>0.003579</td>\n",
       "      <td>0.025459</td>\n",
       "      <td>-0.089921</td>\n",
       "      <td>-0.095137</td>\n",
       "      <td>1.000000</td>\n",
       "    </tr>\n",
       "  </tbody>\n",
       "</table>\n",
       "</div>"
      ],
      "text/plain": [
       "                 FirsttimeParent  Crying seconds  Bottle amount  Pumping Left  \\\n",
       "FirsttimeParent         1.000000             NaN      -0.036233           NaN   \n",
       "Crying seconds               NaN        1.000000      -0.176711      0.052093   \n",
       "Bottle amount          -0.036233       -0.176711       1.000000      0.121739   \n",
       "Pumping Left                 NaN        0.052093       0.121739      1.000000   \n",
       "PumpingRight                 NaN        0.000000      -0.028806      0.165229   \n",
       "SleepingSecond         -0.050108        0.003579       0.025459     -0.089921   \n",
       "\n",
       "                 PumpingRight  SleepingSecond  \n",
       "FirsttimeParent           NaN       -0.050108  \n",
       "Crying seconds       0.000000        0.003579  \n",
       "Bottle amount       -0.028806        0.025459  \n",
       "Pumping Left         0.165229       -0.089921  \n",
       "PumpingRight         1.000000       -0.095137  \n",
       "SleepingSecond      -0.095137        1.000000  "
      ]
     },
     "execution_count": 15,
     "metadata": {},
     "output_type": "execute_result"
    }
   ],
   "source": [
    "dataset.corr()"
   ]
  },
  {
   "cell_type": "code",
   "execution_count": 16,
   "metadata": {},
   "outputs": [
    {
     "data": {
      "text/plain": [
       "<seaborn.axisgrid.PairGrid at 0x1ac2cda9940>"
      ]
     },
     "execution_count": 16,
     "metadata": {},
     "output_type": "execute_result"
    },
    {
     "data": {
      "image/png": "[encoded data removed]",
      "text/plain": [
       "<Figure size 1080x1080 with 42 Axes>"
      ]
     },
     "metadata": {
      "needs_background": "light"
     },
     "output_type": "display_data"
    }
   ],
   "source": [
    "sns.pairplot(dataset)"
   ]
  },
  {
   "cell_type": "code",
   "execution_count": 17,
   "metadata": {},
   "outputs": [
    {
     "data": {
      "image/png": "[encoded data removed]",
      "text/plain": [
       "<Figure size 720x720 with 2 Axes>"
      ]
     },
     "metadata": {
      "needs_background": "light"
     },
     "output_type": "display_data"
    }
   ],
   "source": [
    "corrmap=dataset.corr()\n",
    "top_features=corrmap.index\n",
    "plt.figure(figsize=(10,10))\n",
    "t=sns.heatmap(dataset[top_features].corr(),annot=True,cmap='RdYlGn')"
   ]
  },
  {
   "cell_type": "code",
   "execution_count": 18,
   "metadata": {},
   "outputs": [
    {
     "data": {
      "text/plain": [
       "BabyId                                   0\n",
       "FirsttimeParent                          0\n",
       "Crying date                              0\n",
       "Crying time                              0\n",
       "Crying seconds                        1700\n",
       "Feeding date                             0\n",
       "Feeding time                             0\n",
       "Bottle amount                          729\n",
       "PumpingDate                              0\n",
       "PumpingTimePumpingLeftPumpingRight       0\n",
       "Pumping Left                          1712\n",
       "PumpingRight                          1705\n",
       "SleepingDate                             0\n",
       "SleepingTime                             0\n",
       "SleepingSecond                         777\n",
       "dtype: int64"
      ]
     },
     "execution_count": 18,
     "metadata": {},
     "output_type": "execute_result"
    }
   ],
   "source": [
    "dataset.isnull().sum()"
   ]
  },
  {
   "cell_type": "code",
   "execution_count": 19,
   "metadata": {},
   "outputs": [],
   "source": [
    "dataset.drop('Crying seconds',axis=1,inplace=True)\n",
    "dataset.drop('Pumping Left',axis=1,inplace=True)\n",
    "dataset.drop('PumpingRight',axis=1,inplace=True)\n",
    "dataset.drop('Bottle amount',axis=1,inplace=True)\n",
    "dataset.drop('SleepingSecond',axis=1,inplace=True)"
   ]
  },
  {
   "cell_type": "code",
   "execution_count": 20,
   "metadata": {},
   "outputs": [
    {
     "data": {
      "text/plain": [
       "<matplotlib.axes._subplots.AxesSubplot at 0x1ac2ee271c0>"
      ]
     },
     "execution_count": 20,
     "metadata": {},
     "output_type": "execute_result"
    },
    {
     "data": {
      "image/png": "[encoded data removed]",
      "text/plain": [
       "<Figure size 432x288 with 2 Axes>"
      ]
     },
     "metadata": {
      "needs_background": "light"
     },
     "output_type": "display_data"
    }
   ],
   "source": [
    "#After removing columns containing maximum NULL values\n",
    "sns.heatmap(dataset.isnull(), yticklabels=False, cmap='viridis')"
   ]
  },
  {
   "cell_type": "code",
   "execution_count": 21,
   "metadata": {},
   "outputs": [],
   "source": [
    "dataset['Crying date']=pd.to_datetime(dataset['Crying date'],infer_datetime_format=True)\n",
    "dataset['Feeding date']=pd.to_datetime(dataset['Feeding date'],infer_datetime_format=True)\n",
    "dataset['PumpingDate']=pd.to_datetime(dataset['PumpingDate'],infer_datetime_format=True)\n",
    "dataset['SleepingDate']=pd.to_datetime(dataset['SleepingDate'],infer_datetime_format=True)"
   ]
  },
  {
   "cell_type": "code",
   "execution_count": 22,
   "metadata": {},
   "outputs": [
    {
     "data": {
      "text/html": [
       "<div>\n",
       "<style scoped>\n",
       "    .dataframe tbody tr th:only-of-type {\n",
       "        vertical-align: middle;\n",
       "    }\n",
       "\n",
       "    .dataframe tbody tr th {\n",
       "        vertical-align: top;\n",
       "    }\n",
       "\n",
       "    .dataframe thead th {\n",
       "        text-align: right;\n",
       "    }\n",
       "</style>\n",
       "<table border=\"1\" class=\"dataframe\">\n",
       "  <thead>\n",
       "    <tr style=\"text-align: right;\">\n",
       "      <th></th>\n",
       "      <th>BabyId</th>\n",
       "      <th>FirsttimeParent</th>\n",
       "      <th>Crying date</th>\n",
       "      <th>Crying time</th>\n",
       "      <th>Feeding date</th>\n",
       "      <th>Feeding time</th>\n",
       "      <th>PumpingDate</th>\n",
       "      <th>PumpingTimePumpingLeftPumpingRight</th>\n",
       "      <th>SleepingDate</th>\n",
       "      <th>SleepingTime</th>\n",
       "    </tr>\n",
       "  </thead>\n",
       "  <tbody>\n",
       "    <tr>\n",
       "      <th>0</th>\n",
       "      <td>HPT2_NR_16</td>\n",
       "      <td>1</td>\n",
       "      <td>2015-05-08</td>\n",
       "      <td>20:31:47</td>\n",
       "      <td>2015-05-08</td>\n",
       "      <td>20:31:47</td>\n",
       "      <td>2015-05-08</td>\n",
       "      <td>20:31:47</td>\n",
       "      <td>2015-05-08</td>\n",
       "      <td>20:31:47</td>\n",
       "    </tr>\n",
       "    <tr>\n",
       "      <th>1</th>\n",
       "      <td>HPT2_NR_16</td>\n",
       "      <td>1</td>\n",
       "      <td>2015-05-08</td>\n",
       "      <td>23:33:46</td>\n",
       "      <td>2015-05-08</td>\n",
       "      <td>23:33:46</td>\n",
       "      <td>2015-05-08</td>\n",
       "      <td>23:33:46</td>\n",
       "      <td>2015-05-08</td>\n",
       "      <td>23:33:46</td>\n",
       "    </tr>\n",
       "    <tr>\n",
       "      <th>2</th>\n",
       "      <td>HPT2_NR_16</td>\n",
       "      <td>1</td>\n",
       "      <td>2015-06-08</td>\n",
       "      <td>10:20:00</td>\n",
       "      <td>2015-06-08</td>\n",
       "      <td>10:20:00</td>\n",
       "      <td>2015-06-08</td>\n",
       "      <td>10:20:00</td>\n",
       "      <td>2015-06-08</td>\n",
       "      <td>10:20:00</td>\n",
       "    </tr>\n",
       "    <tr>\n",
       "      <th>3</th>\n",
       "      <td>HPT2_NR_16</td>\n",
       "      <td>1</td>\n",
       "      <td>2015-06-08</td>\n",
       "      <td>11:30:00</td>\n",
       "      <td>2015-06-08</td>\n",
       "      <td>11:30:00</td>\n",
       "      <td>2015-06-08</td>\n",
       "      <td>11:30:00</td>\n",
       "      <td>2015-06-08</td>\n",
       "      <td>11:30:00</td>\n",
       "    </tr>\n",
       "    <tr>\n",
       "      <th>4</th>\n",
       "      <td>HPT2_NR_16</td>\n",
       "      <td>1</td>\n",
       "      <td>2015-06-08</td>\n",
       "      <td>12:15:00</td>\n",
       "      <td>2015-06-08</td>\n",
       "      <td>12:15:00</td>\n",
       "      <td>2015-06-08</td>\n",
       "      <td>12:15:00</td>\n",
       "      <td>2015-06-08</td>\n",
       "      <td>12:15:00</td>\n",
       "    </tr>\n",
       "  </tbody>\n",
       "</table>\n",
       "</div>"
      ],
      "text/plain": [
       "       BabyId  FirsttimeParent Crying date Crying time Feeding date  \\\n",
       "0  HPT2_NR_16                1  2015-05-08    20:31:47   2015-05-08   \n",
       "1  HPT2_NR_16                1  2015-05-08    23:33:46   2015-05-08   \n",
       "2  HPT2_NR_16                1  2015-06-08    10:20:00   2015-06-08   \n",
       "3  HPT2_NR_16                1  2015-06-08    11:30:00   2015-06-08   \n",
       "4  HPT2_NR_16                1  2015-06-08    12:15:00   2015-06-08   \n",
       "\n",
       "  Feeding time PumpingDate PumpingTimePumpingLeftPumpingRight SleepingDate  \\\n",
       "0     20:31:47  2015-05-08                           20:31:47   2015-05-08   \n",
       "1     23:33:46  2015-05-08                           23:33:46   2015-05-08   \n",
       "2     10:20:00  2015-06-08                           10:20:00   2015-06-08   \n",
       "3     11:30:00  2015-06-08                           11:30:00   2015-06-08   \n",
       "4     12:15:00  2015-06-08                           12:15:00   2015-06-08   \n",
       "\n",
       "  SleepingTime  \n",
       "0     20:31:47  \n",
       "1     23:33:46  \n",
       "2     10:20:00  \n",
       "3     11:30:00  \n",
       "4     12:15:00  "
      ]
     },
     "execution_count": 22,
     "metadata": {},
     "output_type": "execute_result"
    }
   ],
   "source": [
    "dataset.head()"
   ]
  },
  {
   "cell_type": "code",
   "execution_count": 23,
   "metadata": {},
   "outputs": [],
   "source": [
    "\n",
    "def getDuplicateColumns(dataset):\n",
    "    duplicateColumnNames = set()\n",
    "    for x in range(df.shape[1]):\n",
    "        col = df.iloc[:, x]\n",
    "        for y in range(x + 1, df.shape[1]):\n",
    "            otherCol = df.iloc[:, y]\n",
    "            if col.equals(otherCol):\n",
    "                duplicateColumnNames.add(df.columns.values[y])\n",
    "    return list(duplicateColumnNames)"
   ]
  },
  {
   "cell_type": "code",
   "execution_count": 24,
   "metadata": {},
   "outputs": [
    {
     "name": "stdout",
     "output_type": "stream",
     "text": [
      "Duplicate Columns are :\n",
      "Column Name :  PumpingTimePumpingLeftPumpingRight\n",
      "Column Name :  SleepingTime\n",
      "Column Name :  Feeding time\n",
      "Column Name :  PumpingDate\n",
      "Column Name :  SleepingDate\n",
      "Column Name :  Feeding date\n"
     ]
    }
   ],
   "source": [
    "    df = pd.DataFrame(dataset)\n",
    "    duplicateColNames = getDuplicateColumns(df)\n",
    "    print('Duplicate Columns are :')\n",
    "    for column in duplicateColNames :\n",
    "       print('Column Name : ', column)"
   ]
  },
  {
   "cell_type": "code",
   "execution_count": 25,
   "metadata": {},
   "outputs": [],
   "source": [
    "dataset['crying/sleeping/pumping/feeding_date']=dataset['Crying date']"
   ]
  },
  {
   "cell_type": "code",
   "execution_count": 26,
   "metadata": {},
   "outputs": [],
   "source": [
    "dataset.drop(['Crying date','Feeding date','PumpingDate','SleepingDate'],axis=1,inplace=True)"
   ]
  },
  {
   "cell_type": "code",
   "execution_count": 27,
   "metadata": {},
   "outputs": [],
   "source": [
    "dataset['crying/sleeping/pumping/feeding_time']=dataset['Crying time']"
   ]
  },
  {
   "cell_type": "code",
   "execution_count": 28,
   "metadata": {},
   "outputs": [],
   "source": [
    "dataset.drop(['Crying time','Feeding time','PumpingTimePumpingLeftPumpingRight','SleepingTime'],axis=1,inplace=True)"
   ]
  },
  {
   "cell_type": "code",
   "execution_count": 29,
   "metadata": {},
   "outputs": [],
   "source": [
    "dataset[\"BabyId\"]= dataset[\"BabyId\"].str.slice(8)"
   ]
  },
  {
   "cell_type": "code",
   "execution_count": 30,
   "metadata": {},
   "outputs": [
    {
     "data": {
      "text/html": [
       "<div>\n",
       "<style scoped>\n",
       "    .dataframe tbody tr th:only-of-type {\n",
       "        vertical-align: middle;\n",
       "    }\n",
       "\n",
       "    .dataframe tbody tr th {\n",
       "        vertical-align: top;\n",
       "    }\n",
       "\n",
       "    .dataframe thead th {\n",
       "        text-align: right;\n",
       "    }\n",
       "</style>\n",
       "<table border=\"1\" class=\"dataframe\">\n",
       "  <thead>\n",
       "    <tr style=\"text-align: right;\">\n",
       "      <th></th>\n",
       "      <th>BabyId</th>\n",
       "      <th>FirsttimeParent</th>\n",
       "      <th>crying/sleeping/pumping/feeding_date</th>\n",
       "      <th>crying/sleeping/pumping/feeding_time</th>\n",
       "    </tr>\n",
       "  </thead>\n",
       "  <tbody>\n",
       "    <tr>\n",
       "      <th>0</th>\n",
       "      <td>16</td>\n",
       "      <td>1</td>\n",
       "      <td>2015-05-08</td>\n",
       "      <td>20:31:47</td>\n",
       "    </tr>\n",
       "    <tr>\n",
       "      <th>1</th>\n",
       "      <td>16</td>\n",
       "      <td>1</td>\n",
       "      <td>2015-05-08</td>\n",
       "      <td>23:33:46</td>\n",
       "    </tr>\n",
       "    <tr>\n",
       "      <th>2</th>\n",
       "      <td>16</td>\n",
       "      <td>1</td>\n",
       "      <td>2015-06-08</td>\n",
       "      <td>10:20:00</td>\n",
       "    </tr>\n",
       "    <tr>\n",
       "      <th>3</th>\n",
       "      <td>16</td>\n",
       "      <td>1</td>\n",
       "      <td>2015-06-08</td>\n",
       "      <td>11:30:00</td>\n",
       "    </tr>\n",
       "    <tr>\n",
       "      <th>4</th>\n",
       "      <td>16</td>\n",
       "      <td>1</td>\n",
       "      <td>2015-06-08</td>\n",
       "      <td>12:15:00</td>\n",
       "    </tr>\n",
       "  </tbody>\n",
       "</table>\n",
       "</div>"
      ],
      "text/plain": [
       "  BabyId  FirsttimeParent crying/sleeping/pumping/feeding_date  \\\n",
       "0     16                1                           2015-05-08   \n",
       "1     16                1                           2015-05-08   \n",
       "2     16                1                           2015-06-08   \n",
       "3     16                1                           2015-06-08   \n",
       "4     16                1                           2015-06-08   \n",
       "\n",
       "  crying/sleeping/pumping/feeding_time  \n",
       "0                             20:31:47  \n",
       "1                             23:33:46  \n",
       "2                             10:20:00  \n",
       "3                             11:30:00  \n",
       "4                             12:15:00  "
      ]
     },
     "execution_count": 30,
     "metadata": {},
     "output_type": "execute_result"
    }
   ],
   "source": [
    "dataset.head()"
   ]
  },
  {
   "cell_type": "code",
   "execution_count": 31,
   "metadata": {},
   "outputs": [],
   "source": [
    "dataset['crying/sleeping/pumping/feeding_date'] = pd.to_numeric(pd.to_datetime(dataset['crying/sleeping/pumping/feeding_date']))\n",
    "dataset['crying/sleeping/pumping/feeding_time'] = pd.to_numeric(pd.to_datetime(dataset['crying/sleeping/pumping/feeding_time']))"
   ]
  },
  {
   "cell_type": "code",
   "execution_count": 32,
   "metadata": {},
   "outputs": [
    {
     "data": {
      "text/html": [
       "<div>\n",
       "<style scoped>\n",
       "    .dataframe tbody tr th:only-of-type {\n",
       "        vertical-align: middle;\n",
       "    }\n",
       "\n",
       "    .dataframe tbody tr th {\n",
       "        vertical-align: top;\n",
       "    }\n",
       "\n",
       "    .dataframe thead th {\n",
       "        text-align: right;\n",
       "    }\n",
       "</style>\n",
       "<table border=\"1\" class=\"dataframe\">\n",
       "  <thead>\n",
       "    <tr style=\"text-align: right;\">\n",
       "      <th></th>\n",
       "      <th>BabyId</th>\n",
       "      <th>crying/sleeping/pumping/feeding_date</th>\n",
       "      <th>crying/sleeping/pumping/feeding_time</th>\n",
       "      <th>Firsttimeparents</th>\n",
       "    </tr>\n",
       "  </thead>\n",
       "  <tbody>\n",
       "    <tr>\n",
       "      <th>0</th>\n",
       "      <td>16</td>\n",
       "      <td>1431043200000000000</td>\n",
       "      <td>1625517107000000000</td>\n",
       "      <td>1</td>\n",
       "    </tr>\n",
       "    <tr>\n",
       "      <th>1</th>\n",
       "      <td>16</td>\n",
       "      <td>1431043200000000000</td>\n",
       "      <td>1625528026000000000</td>\n",
       "      <td>1</td>\n",
       "    </tr>\n",
       "    <tr>\n",
       "      <th>2</th>\n",
       "      <td>16</td>\n",
       "      <td>1433721600000000000</td>\n",
       "      <td>1625480400000000000</td>\n",
       "      <td>1</td>\n",
       "    </tr>\n",
       "    <tr>\n",
       "      <th>3</th>\n",
       "      <td>16</td>\n",
       "      <td>1433721600000000000</td>\n",
       "      <td>1625484600000000000</td>\n",
       "      <td>1</td>\n",
       "    </tr>\n",
       "    <tr>\n",
       "      <th>4</th>\n",
       "      <td>16</td>\n",
       "      <td>1433721600000000000</td>\n",
       "      <td>1625487300000000000</td>\n",
       "      <td>1</td>\n",
       "    </tr>\n",
       "    <tr>\n",
       "      <th>...</th>\n",
       "      <td>...</td>\n",
       "      <td>...</td>\n",
       "      <td>...</td>\n",
       "      <td>...</td>\n",
       "    </tr>\n",
       "    <tr>\n",
       "      <th>1768</th>\n",
       "      <td>33</td>\n",
       "      <td>1440028800000000000</td>\n",
       "      <td>1625517000000000000</td>\n",
       "      <td>1</td>\n",
       "    </tr>\n",
       "    <tr>\n",
       "      <th>1769</th>\n",
       "      <td>33</td>\n",
       "      <td>1440115200000000000</td>\n",
       "      <td>1625443200000000000</td>\n",
       "      <td>1</td>\n",
       "    </tr>\n",
       "    <tr>\n",
       "      <th>1770</th>\n",
       "      <td>33</td>\n",
       "      <td>1440115200000000000</td>\n",
       "      <td>1625459400000000000</td>\n",
       "      <td>1</td>\n",
       "    </tr>\n",
       "    <tr>\n",
       "      <th>1771</th>\n",
       "      <td>33</td>\n",
       "      <td>1440115200000000000</td>\n",
       "      <td>1625475600000000000</td>\n",
       "      <td>1</td>\n",
       "    </tr>\n",
       "    <tr>\n",
       "      <th>1772</th>\n",
       "      <td>33</td>\n",
       "      <td>1440115200000000000</td>\n",
       "      <td>1625487000000000000</td>\n",
       "      <td>1</td>\n",
       "    </tr>\n",
       "  </tbody>\n",
       "</table>\n",
       "<p>1773 rows × 4 columns</p>\n",
       "</div>"
      ],
      "text/plain": [
       "     BabyId  crying/sleeping/pumping/feeding_date  \\\n",
       "0        16                   1431043200000000000   \n",
       "1        16                   1431043200000000000   \n",
       "2        16                   1433721600000000000   \n",
       "3        16                   1433721600000000000   \n",
       "4        16                   1433721600000000000   \n",
       "...     ...                                   ...   \n",
       "1768     33                   1440028800000000000   \n",
       "1769     33                   1440115200000000000   \n",
       "1770     33                   1440115200000000000   \n",
       "1771     33                   1440115200000000000   \n",
       "1772     33                   1440115200000000000   \n",
       "\n",
       "      crying/sleeping/pumping/feeding_time  Firsttimeparents  \n",
       "0                      1625517107000000000                 1  \n",
       "1                      1625528026000000000                 1  \n",
       "2                      1625480400000000000                 1  \n",
       "3                      1625484600000000000                 1  \n",
       "4                      1625487300000000000                 1  \n",
       "...                                    ...               ...  \n",
       "1768                   1625517000000000000                 1  \n",
       "1769                   1625443200000000000                 1  \n",
       "1770                   1625459400000000000                 1  \n",
       "1771                   1625475600000000000                 1  \n",
       "1772                   1625487000000000000                 1  \n",
       "\n",
       "[1773 rows x 4 columns]"
      ]
     },
     "execution_count": 32,
     "metadata": {},
     "output_type": "execute_result"
    }
   ],
   "source": [
    "dataset['Firsttimeparents']=dataset['FirsttimeParent']\n",
    "dataset.drop('FirsttimeParent',axis=1)"
   ]
  },
  {
   "cell_type": "markdown",
   "metadata": {},
   "source": [
    "## Train Test Split"
   ]
  },
  {
   "cell_type": "code",
   "execution_count": 33,
   "metadata": {},
   "outputs": [],
   "source": [
    "from sklearn.model_selection import train_test_split\n",
    "X=dataset.drop('Firsttimeparents',axis=1)\n",
    "y=dataset['Firsttimeparents']"
   ]
  },
  {
   "cell_type": "code",
   "execution_count": 34,
   "metadata": {},
   "outputs": [],
   "source": [
    "X_train, X_test, y_train, y_test = train_test_split(X,y, test_size=0.30,random_state=101)"
   ]
  },
  {
   "cell_type": "code",
   "execution_count": 35,
   "metadata": {},
   "outputs": [],
   "source": [
    "from sklearn.linear_model import LogisticRegression\n",
    "import warnings\n",
    "warnings.filterwarnings('ignore')\n",
    "logmodel = LogisticRegression()\n",
    "\n",
    "logmodel.fit(X_train,y_train)\n",
    "\n",
    "predictions = logmodel.predict(X_test)"
   ]
  },
  {
   "cell_type": "code",
   "execution_count": 36,
   "metadata": {},
   "outputs": [
    {
     "data": {
      "text/plain": [
       "pandas.core.frame.DataFrame"
      ]
     },
     "execution_count": 36,
     "metadata": {},
     "output_type": "execute_result"
    }
   ],
   "source": [
    "type(dataset)"
   ]
  },
  {
   "cell_type": "code",
   "execution_count": 37,
   "metadata": {},
   "outputs": [],
   "source": [
    "from sklearn.metrics import classification_report\n",
    "from sklearn.metrics import confusion_matrix\n",
    "from sklearn.metrics import accuracy_score "
   ]
  },
  {
   "cell_type": "code",
   "execution_count": 38,
   "metadata": {},
   "outputs": [
    {
     "data": {
      "text/plain": [
       "array([[ 87,   0],\n",
       "       [445,   0]], dtype=int64)"
      ]
     },
     "execution_count": 38,
     "metadata": {},
     "output_type": "execute_result"
    }
   ],
   "source": [
    "results = confusion_matrix(y_test, predictions) \n",
    "results"
   ]
  },
  {
   "cell_type": "code",
   "execution_count": 39,
   "metadata": {},
   "outputs": [
    {
     "data": {
      "text/plain": [
       "0.16353383458646617"
      ]
     },
     "execution_count": 39,
     "metadata": {},
     "output_type": "execute_result"
    }
   ],
   "source": [
    "accuracy_score(y_test, predictions) "
   ]
  },
  {
   "cell_type": "code",
   "execution_count": 40,
   "metadata": {},
   "outputs": [
    {
     "ename": "ModuleNotFoundError",
     "evalue": "No module named 'plotly'",
     "output_type": "error",
     "traceback": [
      "\u001b[1;31m---------------------------------------------------------------------------\u001b[0m",
      "\u001b[1;31mModuleNotFoundError\u001b[0m                       Traceback (most recent call last)",
      "\u001b[1;32m<ipython-input-40-3e6070a397e6>\u001b[0m in \u001b[0;36m<module>\u001b[1;34m\u001b[0m\n\u001b[1;32m----> 1\u001b[1;33m \u001b[1;32mimport\u001b[0m \u001b[0mplotly\u001b[0m\u001b[1;33m.\u001b[0m\u001b[0mexpress\u001b[0m \u001b[1;32mas\u001b[0m \u001b[0mhpx\u001b[0m\u001b[1;33m\u001b[0m\u001b[1;33m\u001b[0m\u001b[0m\n\u001b[0m",
      "\u001b[1;31mModuleNotFoundError\u001b[0m: No module named 'plotly'"
     ]
    }
   ],
   "source": [
    "import plotly.express as hpx"
   ]
  },
  {
   "cell_type": "code",
   "execution_count": null,
   "metadata": {},
   "outputs": [],
   "source": []
  }
 ],
 "metadata": {
  "kernelspec": {
   "display_name": "Python 3",
   "language": "python",
   "name": "python3"
  },
  "language_info": {
   "codemirror_mode": {
    "name": "ipython",
    "version": 3
   },
   "file_extension": ".py",
   "mimetype": "text/x-python",
   "name": "python",
   "nbconvert_exporter": "python",
   "pygments_lexer": "ipython3",
   "version": "3.8.3"
  }
 },
 "nbformat": 4,
 "nbformat_minor": 4
}
